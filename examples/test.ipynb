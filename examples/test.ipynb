{
 "cells": [
  {
   "cell_type": "code",
   "execution_count": 1,
   "metadata": {},
   "outputs": [
    {
     "name": "stdout",
     "output_type": "stream",
     "text": [
      "Method 1 (defaultdict) time: 0.001292 seconds\n",
      "Method 2 (direct creation) time: 0.001142 seconds\n"
     ]
    }
   ],
   "source": [
    "import torch\n",
    "from collections import defaultdict\n",
    "import timeit\n",
    "\n",
    "items = [torch.randint(0, 10, (10, 10))]\n",
    "keys = ['input_ids']\n",
    "pad_tokens = {'input_ids': 0}\n",
    "max_length = 10\n",
    "\n",
    "# Method 1: Using defaultdict and torch.full\n",
    "def method1():\n",
    "    padded_tensors = defaultdict(lambda: torch.zeros((len(items), max_length), dtype=torch.int64))\n",
    "    for key in keys:\n",
    "        padded_tensors[key] = torch.full((len(items), max_length), pad_tokens.get(key, 0), dtype=torch.int64)\n",
    "    return padded_tensors\n",
    "\n",
    "# Method 2: Creating torch.full directly\n",
    "def method2():\n",
    "    padded_tensors = {key: torch.full((len(items), max_length), pad_tokens.get(key, 0), dtype=torch.int64) for key in keys}\n",
    "    return padded_tensors\n",
    "\n",
    "# Time comparison\n",
    "time_method1 = timeit.timeit(method1, number=1000)\n",
    "time_method2 = timeit.timeit(method2, number=1000)\n",
    "\n",
    "print(f\"Method 1 (defaultdict) time: {time_method1:.6f} seconds\")\n",
    "print(f\"Method 2 (direct creation) time: {time_method2:.6f} seconds\")\n",
    "\n",
    "# Use the faster method\n",
    "padded_tensors = method2() if time_method2 < time_method1 else method1()"
   ]
  },
  {
   "cell_type": "code",
   "execution_count": null,
   "metadata": {},
   "outputs": [],
   "source": []
  }
 ],
 "metadata": {
  "kernelspec": {
   "display_name": "base",
   "language": "python",
   "name": "python3"
  },
  "language_info": {
   "codemirror_mode": {
    "name": "ipython",
    "version": 3
   },
   "file_extension": ".py",
   "mimetype": "text/x-python",
   "name": "python",
   "nbconvert_exporter": "python",
   "pygments_lexer": "ipython3",
   "version": "3.11.7"
  }
 },
 "nbformat": 4,
 "nbformat_minor": 2
}
