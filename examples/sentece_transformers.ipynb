{
 "cells": [
  {
   "cell_type": "code",
   "execution_count": 1,
   "metadata": {},
   "outputs": [
    {
     "name": "stderr",
     "output_type": "stream",
     "text": [
      "/opt/homebrew/anaconda3/lib/python3.11/site-packages/sentence_transformers/cross_encoder/CrossEncoder.py:11: TqdmExperimentalWarning: Using `tqdm.autonotebook.tqdm` in notebook mode. Use `tqdm.tqdm` instead to force console mode (e.g. in jupyter console)\n",
      "  from tqdm.autonotebook import tqdm, trange\n"
     ]
    }
   ],
   "source": [
    "from sentence_transformers import SentenceTransformer\n",
    "\n",
    "# Load your model\n",
    "model = SentenceTransformer(\"mixedbread-ai/mxbai-embed-large-v1\")"
   ]
  },
  {
   "cell_type": "code",
   "execution_count": 2,
   "metadata": {},
   "outputs": [
    {
     "data": {
      "text/plain": [
       "array([ 0.30596903,  0.79072976,  0.00980725, ...,  0.06440018,\n",
       "       -0.45898232, -0.01831824], dtype=float32)"
      ]
     },
     "execution_count": 2,
     "metadata": {},
     "output_type": "execute_result"
    }
   ],
   "source": [
    "model.encode(\"Hello, world!\")"
   ]
  },
  {
   "cell_type": "code",
   "execution_count": 3,
   "metadata": {},
   "outputs": [],
   "source": [
    "import batch\n",
    "model.forward = batch.dynamically(model.forward, device=\"mps\")"
   ]
  },
  {
   "cell_type": "code",
   "execution_count": 30,
   "metadata": {},
   "outputs": [],
   "source": [
    "from concurrent.futures import ThreadPoolExecutor\n",
    "\n",
    "def encode_text(text):\n",
    "    return model.encode(text)\n",
    "\n",
    "with ThreadPoolExecutor(max_workers=128) as executor:\n",
    "    futures = [executor.submit(encode_text, \"Hello, world!\") for _ in range(100)]\n",
    "    results = [future.result() for future in futures]"
   ]
  },
  {
   "cell_type": "code",
   "execution_count": 23,
   "metadata": {},
   "outputs": [],
   "source": [
    "for i in range(100):\n",
    "    model.encode(\"Hello, world!\")"
   ]
  },
  {
   "cell_type": "code",
   "execution_count": 6,
   "metadata": {},
   "outputs": [
    {
     "ename": "KeyError",
     "evalue": "'input'",
     "output_type": "error",
     "traceback": [
      "\u001b[0;31m---------------------------------------------------------------------------\u001b[0m",
      "\u001b[0;31mKeyError\u001b[0m                                  Traceback (most recent call last)",
      "Cell \u001b[0;32mIn[6], line 3\u001b[0m\n\u001b[1;32m      1\u001b[0m \u001b[38;5;28;01mimport\u001b[39;00m \u001b[38;5;21;01minspect\u001b[39;00m\n\u001b[0;32m----> 3\u001b[0m inspect\u001b[38;5;241m.\u001b[39msignature(model\u001b[38;5;241m.\u001b[39mforward)\u001b[38;5;241m.\u001b[39mparameters[\u001b[38;5;124m\"\u001b[39m\u001b[38;5;124minput\u001b[39m\u001b[38;5;124m\"\u001b[39m]\n",
      "\u001b[0;31mKeyError\u001b[0m: 'input'"
     ]
    }
   ],
   "source": [
    "import inspect\n",
    "\n",
    "inspect.signature(model.forward).parameters[\"input\"]"
   ]
  },
  {
   "cell_type": "code",
   "execution_count": 31,
   "metadata": {},
   "outputs": [
    {
     "name": "stderr",
     "output_type": "stream",
     "text": [
      "/opt/homebrew/anaconda3/lib/python3.11/site-packages/ofen/models/torch/text_encoder.py:144: UserWarning: Pooling strategy is set to NONE. This may result in unexpected behavior as the output will be the full sequence of hidden states rather than a single vector per input. Consider using a different pooling strategy such as mean, max, or cls if you need a fixed-size representation.\n",
      "  warnings.warn(\n"
     ]
    },
    {
     "data": {
      "text/plain": [
       "EncodingResult(embeddings=array([[[ 0.01729078,  0.04468535,  0.00055422, ...,  0.00363935,\n",
       "         -0.02593779, -0.00103519],\n",
       "        [-0.00385487,  0.02841955,  0.00728079, ..., -0.00641318,\n",
       "         -0.00887359,  0.01458311],\n",
       "        [ 0.02255957,  0.03204089,  0.01209311, ...,  0.00168585,\n",
       "         -0.03093472,  0.01115617],\n",
       "        [-0.01648994,  0.0239604 , -0.01059136, ..., -0.01044505,\n",
       "         -0.04768615,  0.02494777],\n",
       "        [ 0.00466857,  0.04424843,  0.00212991, ...,  0.01685552,\n",
       "         -0.01741115,  0.01215234],\n",
       "        [ 0.00623544,  0.03078753,  0.00834456, ...,  0.00311965,\n",
       "         -0.0418628 , -0.02152617]]], dtype=float32), total_tokens=6)"
      ]
     },
     "execution_count": 31,
     "metadata": {},
     "output_type": "execute_result"
    }
   ],
   "source": [
    "from ofen.models import TextEncoder\n",
    "\n",
    "text_encoder = TextEncoder(\"mixedbread-ai/mxbai-embed-large-v1\")\n",
    "text_encoder.encode(\"Hello, world!\")"
   ]
  },
  {
   "cell_type": "code",
   "execution_count": 32,
   "metadata": {},
   "outputs": [],
   "source": [
    "text_encoder.forward = batch.dynamically(text_encoder.forward)"
   ]
  },
  {
   "cell_type": "code",
   "execution_count": 50,
   "metadata": {},
   "outputs": [],
   "source": [
    "from concurrent.futures import ThreadPoolExecutor\n",
    "\n",
    "def encode_text(text):\n",
    "    return text_encoder.encode(text)\n",
    "\n",
    "with ThreadPoolExecutor(max_workers=128) as executor:\n",
    "    futures = [executor.submit(encode_text, \"Hello, world!\") for _ in range(100)]\n",
    "    results = [future.result() for future in futures]"
   ]
  },
  {
   "cell_type": "code",
   "execution_count": null,
   "metadata": {},
   "outputs": [],
   "source": []
  }
 ],
 "metadata": {
  "kernelspec": {
   "display_name": "base",
   "language": "python",
   "name": "python3"
  },
  "language_info": {
   "codemirror_mode": {
    "name": "ipython",
    "version": 3
   },
   "file_extension": ".py",
   "mimetype": "text/x-python",
   "name": "python",
   "nbconvert_exporter": "python",
   "pygments_lexer": "ipython3",
   "version": "3.11.7"
  }
 },
 "nbformat": 4,
 "nbformat_minor": 2
}
