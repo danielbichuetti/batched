{
 "cells": [
  {
   "cell_type": "code",
   "execution_count": null,
   "metadata": {},
   "outputs": [],
   "source": [
    "import numpy as np\n",
    "from batch import BatchProcessor\n",
    "from batch.asyncio.batch_processor import BatchProcessor\n",
    "from batch.types import ModelFeatures\n",
    "\n",
    "\n",
    "def mock_inference_func(features: ModelFeatures) -> ModelOutputs:\n",
    "    sleep(0.001)\n",
    "    return {\n",
    "        \"output\": np.random.rand(100, 100),\n",
    "    }"
   ]
  },
  {
   "cell_type": "code",
   "execution_count": null,
   "metadata": {},
   "outputs": [],
   "source": []
  },
  {
   "cell_type": "code",
   "execution_count": null,
   "metadata": {},
   "outputs": [],
   "source": []
  },
  {
   "cell_type": "code",
   "execution_count": null,
   "metadata": {},
   "outputs": [],
   "source": []
  }
 ],
 "metadata": {
  "language_info": {
   "name": "python"
  }
 },
 "nbformat": 4,
 "nbformat_minor": 2
}
